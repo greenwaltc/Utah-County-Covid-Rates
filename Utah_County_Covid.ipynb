{
  "nbformat": 4,
  "nbformat_minor": 0,
  "metadata": {
    "colab": {
      "name": "Utah County Covid.ipynb",
      "provenance": [],
      "collapsed_sections": [],
      "toc_visible": true
    },
    "kernelspec": {
      "name": "python3",
      "display_name": "Python 3"
    }
  },
  "cells": [
    {
      "cell_type": "code",
      "metadata": {
        "id": "kOcoBHX7OPnH"
      },
      "source": [
        "import matplotlib.pyplot as plt\n",
        "import matplotlib.dates as mdates\n",
        "import matplotlib.cbook as cbook\n",
        "import pandas as pd\n",
        "import seaborn as sns\n",
        "import numpy as np\n",
        "import datetime"
      ],
      "execution_count": 39,
      "outputs": []
    },
    {
      "cell_type": "code",
      "metadata": {
        "id": "MYJqAggtOiWq",
        "colab": {
          "base_uri": "https://localhost:8080/",
          "height": 455
        },
        "outputId": "0d0a4878-4ca8-4166-a1f1-81221f73c5fa"
      },
      "source": [
        "df = pd.read_csv(\"us-counties.csv\")\n",
        "df = df.loc[df['county'] == 'Utah']  # Keep only data from Utah County\n",
        "\n",
        "df['date'] = pd.to_datetime(df['date'])  # Change date to datetime object\n",
        "\n",
        "df.index = df['date']  # Set date as index\n",
        "\n",
        "df = df.drop(columns=['state'])  # Drop redundant state column\n",
        "\n",
        "display(df)"
      ],
      "execution_count": 40,
      "outputs": [
        {
          "output_type": "display_data",
          "data": {
            "text/html": [
              "<div>\n",
              "<style scoped>\n",
              "    .dataframe tbody tr th:only-of-type {\n",
              "        vertical-align: middle;\n",
              "    }\n",
              "\n",
              "    .dataframe tbody tr th {\n",
              "        vertical-align: top;\n",
              "    }\n",
              "\n",
              "    .dataframe thead th {\n",
              "        text-align: right;\n",
              "    }\n",
              "</style>\n",
              "<table border=\"1\" class=\"dataframe\">\n",
              "  <thead>\n",
              "    <tr style=\"text-align: right;\">\n",
              "      <th></th>\n",
              "      <th>date</th>\n",
              "      <th>county</th>\n",
              "      <th>fips</th>\n",
              "      <th>cases</th>\n",
              "      <th>deaths</th>\n",
              "    </tr>\n",
              "    <tr>\n",
              "      <th>date</th>\n",
              "      <th></th>\n",
              "      <th></th>\n",
              "      <th></th>\n",
              "      <th></th>\n",
              "      <th></th>\n",
              "    </tr>\n",
              "  </thead>\n",
              "  <tbody>\n",
              "    <tr>\n",
              "      <th>2020-03-15</th>\n",
              "      <td>2020-03-15</td>\n",
              "      <td>Utah</td>\n",
              "      <td>49049.0</td>\n",
              "      <td>1</td>\n",
              "      <td>0.0</td>\n",
              "    </tr>\n",
              "    <tr>\n",
              "      <th>2020-03-16</th>\n",
              "      <td>2020-03-16</td>\n",
              "      <td>Utah</td>\n",
              "      <td>49049.0</td>\n",
              "      <td>1</td>\n",
              "      <td>0.0</td>\n",
              "    </tr>\n",
              "    <tr>\n",
              "      <th>2020-03-17</th>\n",
              "      <td>2020-03-17</td>\n",
              "      <td>Utah</td>\n",
              "      <td>49049.0</td>\n",
              "      <td>1</td>\n",
              "      <td>0.0</td>\n",
              "    </tr>\n",
              "    <tr>\n",
              "      <th>2020-03-18</th>\n",
              "      <td>2020-03-18</td>\n",
              "      <td>Utah</td>\n",
              "      <td>49049.0</td>\n",
              "      <td>2</td>\n",
              "      <td>0.0</td>\n",
              "    </tr>\n",
              "    <tr>\n",
              "      <th>2020-03-19</th>\n",
              "      <td>2020-03-19</td>\n",
              "      <td>Utah</td>\n",
              "      <td>49049.0</td>\n",
              "      <td>3</td>\n",
              "      <td>0.0</td>\n",
              "    </tr>\n",
              "    <tr>\n",
              "      <th>...</th>\n",
              "      <td>...</td>\n",
              "      <td>...</td>\n",
              "      <td>...</td>\n",
              "      <td>...</td>\n",
              "      <td>...</td>\n",
              "    </tr>\n",
              "    <tr>\n",
              "      <th>2021-02-12</th>\n",
              "      <td>2021-02-12</td>\n",
              "      <td>Utah</td>\n",
              "      <td>49049.0</td>\n",
              "      <td>87334</td>\n",
              "      <td>304.0</td>\n",
              "    </tr>\n",
              "    <tr>\n",
              "      <th>2021-02-13</th>\n",
              "      <td>2021-02-13</td>\n",
              "      <td>Utah</td>\n",
              "      <td>49049.0</td>\n",
              "      <td>87586</td>\n",
              "      <td>306.0</td>\n",
              "    </tr>\n",
              "    <tr>\n",
              "      <th>2021-02-14</th>\n",
              "      <td>2021-02-14</td>\n",
              "      <td>Utah</td>\n",
              "      <td>49049.0</td>\n",
              "      <td>87740</td>\n",
              "      <td>306.0</td>\n",
              "    </tr>\n",
              "    <tr>\n",
              "      <th>2021-02-15</th>\n",
              "      <td>2021-02-15</td>\n",
              "      <td>Utah</td>\n",
              "      <td>49049.0</td>\n",
              "      <td>87844</td>\n",
              "      <td>307.0</td>\n",
              "    </tr>\n",
              "    <tr>\n",
              "      <th>2021-02-16</th>\n",
              "      <td>2021-02-16</td>\n",
              "      <td>Utah</td>\n",
              "      <td>49049.0</td>\n",
              "      <td>88018</td>\n",
              "      <td>307.0</td>\n",
              "    </tr>\n",
              "  </tbody>\n",
              "</table>\n",
              "<p>339 rows × 5 columns</p>\n",
              "</div>"
            ],
            "text/plain": [
              "                 date county     fips  cases  deaths\n",
              "date                                                \n",
              "2020-03-15 2020-03-15   Utah  49049.0      1     0.0\n",
              "2020-03-16 2020-03-16   Utah  49049.0      1     0.0\n",
              "2020-03-17 2020-03-17   Utah  49049.0      1     0.0\n",
              "2020-03-18 2020-03-18   Utah  49049.0      2     0.0\n",
              "2020-03-19 2020-03-19   Utah  49049.0      3     0.0\n",
              "...               ...    ...      ...    ...     ...\n",
              "2021-02-12 2021-02-12   Utah  49049.0  87334   304.0\n",
              "2021-02-13 2021-02-13   Utah  49049.0  87586   306.0\n",
              "2021-02-14 2021-02-14   Utah  49049.0  87740   306.0\n",
              "2021-02-15 2021-02-15   Utah  49049.0  87844   307.0\n",
              "2021-02-16 2021-02-16   Utah  49049.0  88018   307.0\n",
              "\n",
              "[339 rows x 5 columns]"
            ]
          },
          "metadata": {
            "tags": []
          }
        }
      ]
    },
    {
      "cell_type": "code",
      "metadata": {
        "colab": {
          "base_uri": "https://localhost:8080/"
        },
        "id": "yCqQxfk1WPt7",
        "outputId": "9e5250d6-511c-4861-a5d0-4ca0d3be6181"
      },
      "source": [
        "# Aggregate data by month\r\n",
        "df1 = df.resample('M').mean()\r\n",
        "print(df1.head())"
      ],
      "execution_count": 41,
      "outputs": [
        {
          "output_type": "stream",
          "text": [
            "               fips        cases     deaths\n",
            "date                                       \n",
            "2020-03-31  49049.0    19.411765   0.000000\n",
            "2020-04-30  49049.0   440.866667   2.966667\n",
            "2020-05-31  49049.0  1471.419355  12.129032\n",
            "2020-06-30  49049.0  2828.566667  19.333333\n",
            "2020-07-31  49049.0  5894.258065  28.322581\n"
          ],
          "name": "stdout"
        }
      ]
    },
    {
      "cell_type": "code",
      "metadata": {
        "id": "stfyfcDCPsu6",
        "colab": {
          "base_uri": "https://localhost:8080/",
          "height": 757
        },
        "outputId": "e459b967-cade-4e6d-a062-6bd9076f7b44"
      },
      "source": [
        "f, ax = plt.subplots(figsize=(12,12))\n",
        "sns.lineplot(x = df1.index, y='cases',\n",
        "              data=df1).set_title('Average Montly COVID-19 Cases for Utah County')\n",
        "plt.xticks(rotation = 45)\n",
        "\n",
        "plt.show()"
      ],
      "execution_count": 42,
      "outputs": [
        {
          "output_type": "display_data",
          "data": {
            "image/png": "[encoded data removed]",
            "text/plain": [
              "<Figure size 864x864 with 1 Axes>"
            ]
          },
          "metadata": {
            "tags": [],
            "needs_background": "light"
          }
        }
      ]
    }
  ]
}